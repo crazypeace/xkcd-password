{
 "cells": [
  {
   "cell_type": "code",
   "execution_count": 1,
   "metadata": {},
   "outputs": [],
   "source": [
    "from collections import namedtuple, Counter\n",
    "from itertools import accumulate\n",
    "import random\n",
    "import math\n",
    "import requests\n",
    "from io import StringIO\n",
    "from matplotlib import pyplot as plt\n",
    "\n",
    "Phrase = namedtuple('Phrase', ['hans', 'pinyin', 'rank'])"
   ]
  },
  {
   "cell_type": "code",
   "execution_count": 2,
   "metadata": {},
   "outputs": [],
   "source": [
    "DICT_URL = 'https://gist.githubusercontent.com/indiejoseph/eae09c673460aa0b56db/raw'\n",
    "resp = requests.get(DICT_URL)"
   ]
  },
  {
   "cell_type": "code",
   "execution_count": 3,
   "metadata": {
    "scrolled": true
   },
   "outputs": [
    {
     "name": "stdout",
     "output_type": "stream",
     "text": [
      "56064 phrases loaded\n"
     ]
    }
   ],
   "source": [
    "full_phrases = []\n",
    "for line in StringIO(resp.text):\n",
    "    if '\\t' not in line:\n",
    "        continue\n",
    "    phrase, pinyin, rank = line.strip().split('\\t')\n",
    "    pinyin = ''.join(filter(lambda c: c.isalpha(), pinyin))\n",
    "    rank = int(rank)\n",
    "    full_phrases.append(Phrase(phrase, pinyin, rank))\n",
    "full_phrases = sorted(full_phrases, key=lambda p: p.rank)\n",
    "print(f\"{len(full_phrases)} phrases loaded\")"
   ]
  },
  {
   "cell_type": "code",
   "execution_count": 4,
   "metadata": {},
   "outputs": [
    {
     "name": "stdout",
     "output_type": "stream",
     "text": [
      "11142 phrases remaining\n"
     ]
    }
   ],
   "source": [
    "pinyins = set()\n",
    "phrases = []\n",
    "for phrase in full_phrases[:15000]:\n",
    "    if phrase.pinyin in pinyins:\n",
    "        continue\n",
    "    pinyins.add(phrase.pinyin)\n",
    "    phrases.append(phrase)\n",
    "print(f\"{len(phrases)} phrases remaining\")"
   ]
  },
  {
   "cell_type": "code",
   "execution_count": 5,
   "metadata": {},
   "outputs": [
    {
     "data": {
      "image/png": "[encoded data removed]",
      "text/plain": [
       "<matplotlib.figure.Figure at 0x1f748d52c88>"
      ]
     },
     "metadata": {},
     "output_type": "display_data"
    }
   ],
   "source": [
    "hanlens = Counter(len(p.hans) for p in phrases)\n",
    "x, y = zip(*sorted(hanlens.items()))\n",
    "plt.xlabel('length of hans')\n",
    "plt.ylabel('# of phrases')\n",
    "plt.plot(x, y)\n",
    "plt.show()"
   ]
  },
  {
   "cell_type": "code",
   "execution_count": 6,
   "metadata": {},
   "outputs": [
    {
     "name": "stdout",
     "output_type": "stream",
     "text": [
      "9493 phrases remaining\n"
     ]
    }
   ],
   "source": [
    "phrases = [p for p in phrases if len(p.hans) == 2]\n",
    "print(f\"{len(phrases)} phrases remaining\")"
   ]
  },
  {
   "cell_type": "code",
   "execution_count": 7,
   "metadata": {
    "scrolled": true
   },
   "outputs": [
    {
     "data": {
      "image/png": "[encoded data removed]",
      "text/plain": [
       "<matplotlib.figure.Figure at 0x1f7480cde10>"
      ]
     },
     "metadata": {},
     "output_type": "display_data"
    }
   ],
   "source": [
    "pylens = Counter(len(p.pinyin) for p in phrases)\n",
    "x, y = zip(*sorted(pylens.items()))\n",
    "y = list(accumulate(y))\n",
    "plt.xlabel('length of pinyin')\n",
    "plt.ylabel('# of phrases (cumsum)')\n",
    "plt.plot(x, y, marker='o')\n",
    "plt.show()"
   ]
  },
  {
   "cell_type": "code",
   "execution_count": 8,
   "metadata": {},
   "outputs": [
    {
     "name": "stdout",
     "output_type": "stream",
     "text": [
      "8946 phrases remaining\n"
     ]
    }
   ],
   "source": [
    "phrases = [p for p in phrases if len(p.pinyin) <= 8]\n",
    "phrases = sorted(phrases, key=lambda p: len(p.pinyin))\n",
    "print(f\"{len(phrases)} phrases remaining\")"
   ]
  },
  {
   "cell_type": "code",
   "execution_count": 13,
   "metadata": {
    "scrolled": true
   },
   "outputs": [
    {
     "data": {
      "text/plain": [
       "[Phrase(hans='谨慎', pinyin='jinshen', rank=6217),\n",
       " Phrase(hans='抖动', pinyin='doudong', rank=12799),\n",
       " Phrase(hans='脖子', pinyin='bozi', rank=4028),\n",
       " Phrase(hans='期货', pinyin='qihuo', rank=8464)]"
      ]
     },
     "execution_count": 13,
     "metadata": {},
     "output_type": "execute_result"
    }
   ],
   "source": [
    "random.choices(phrases, k=4)"
   ]
  },
  {
   "cell_type": "code",
   "execution_count": 14,
   "metadata": {},
   "outputs": [
    {
     "name": "stdout",
     "output_type": "stream",
     "text": [
      "entropy = 52.5 bits\n",
      "        = 8.8 chars\n"
     ]
    }
   ],
   "source": [
    "e = math.log2(len(phrases) ** 4)\n",
    "n = math.log(2 ** e) / math.log(26 * 2 + 10)\n",
    "print(f'entropy = {e:.1f} bits')\n",
    "print(f'        = {n:.1f} chars')"
   ]
  },
  {
   "cell_type": "code",
   "execution_count": 15,
   "metadata": {},
   "outputs": [],
   "source": [
    "with open('dict.txt', 'w', encoding='utf8') as f:\n",
    "    for p in phrases:\n",
    "        f.write(f'{p.hans}\\t{p.pinyin}\\n')"
   ]
  }
 ],
 "metadata": {
  "kernelspec": {
   "display_name": "Python 3",
   "language": "python",
   "name": "python3"
  },
  "language_info": {
   "codemirror_mode": {
    "name": "ipython",
    "version": 3
   },
   "file_extension": ".py",
   "mimetype": "text/x-python",
   "name": "python",
   "nbconvert_exporter": "python",
   "pygments_lexer": "ipython3",
   "version": "3.6.4"
  }
 },
 "nbformat": 4,
 "nbformat_minor": 2
}
